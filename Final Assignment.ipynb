{
 "cells": [
  {
   "cell_type": "markdown",
   "metadata": {},
   "source": [
    "# Hello"
   ]
  },
  {
   "cell_type": "markdown",
   "metadata": {},
   "source": [
    "## Name of the topic is \"Finding US cities similar to Phoenix\""
   ]
  },
  {
   "cell_type": "code",
   "execution_count": 9,
   "metadata": {},
   "outputs": [],
   "source": [
    "import pandas as pd\n",
    "import numpy as np\n",
    "from matplotlib import pyplot as plt\n",
    "import folium\n",
    "import requests"
   ]
  },
  {
   "cell_type": "markdown",
   "metadata": {},
   "source": [
    "# First, I have imported the cities data using Pandas into a dataframe"
   ]
  },
  {
   "cell_type": "markdown",
   "metadata": {},
   "source": [
    "### From the list of 1000 cities, I have selected the top 50 cities based on population rank This is done in order to minimize the number of API calls"
   ]
  },
  {
   "cell_type": "code",
   "execution_count": 11,
   "metadata": {},
   "outputs": [
    {
     "data": {
      "text/html": [
       "<div>\n",
       "<style scoped>\n",
       "    .dataframe tbody tr th:only-of-type {\n",
       "        vertical-align: middle;\n",
       "    }\n",
       "\n",
       "    .dataframe tbody tr th {\n",
       "        vertical-align: top;\n",
       "    }\n",
       "\n",
       "    .dataframe thead th {\n",
       "        text-align: right;\n",
       "    }\n",
       "</style>\n",
       "<table border=\"1\" class=\"dataframe\">\n",
       "  <thead>\n",
       "    <tr style=\"text-align: right;\">\n",
       "      <th></th>\n",
       "      <th>City</th>\n",
       "      <th>Rank</th>\n",
       "      <th>State</th>\n",
       "      <th>Growth From 2000 to 2013</th>\n",
       "      <th>Population</th>\n",
       "      <th>lat</th>\n",
       "      <th>lon</th>\n",
       "    </tr>\n",
       "  </thead>\n",
       "  <tbody>\n",
       "    <tr>\n",
       "      <th>67</th>\n",
       "      <td>New York</td>\n",
       "      <td>1</td>\n",
       "      <td>New York</td>\n",
       "      <td>4.8</td>\n",
       "      <td>8405837</td>\n",
       "      <td>40.712784</td>\n",
       "      <td>-74.005941</td>\n",
       "    </tr>\n",
       "    <tr>\n",
       "      <th>591</th>\n",
       "      <td>Los Angeles</td>\n",
       "      <td>2</td>\n",
       "      <td>California</td>\n",
       "      <td>4.8</td>\n",
       "      <td>3884307</td>\n",
       "      <td>34.052234</td>\n",
       "      <td>-118.243685</td>\n",
       "    </tr>\n",
       "    <tr>\n",
       "      <th>602</th>\n",
       "      <td>Chicago</td>\n",
       "      <td>3</td>\n",
       "      <td>Illinois</td>\n",
       "      <td>-6.1</td>\n",
       "      <td>2718782</td>\n",
       "      <td>41.878114</td>\n",
       "      <td>-87.629798</td>\n",
       "    </tr>\n",
       "    <tr>\n",
       "      <th>70</th>\n",
       "      <td>Houston</td>\n",
       "      <td>4</td>\n",
       "      <td>Texas</td>\n",
       "      <td>11.0</td>\n",
       "      <td>2195914</td>\n",
       "      <td>29.760427</td>\n",
       "      <td>-95.369803</td>\n",
       "    </tr>\n",
       "    <tr>\n",
       "      <th>674</th>\n",
       "      <td>Philadelphia</td>\n",
       "      <td>5</td>\n",
       "      <td>Pennsylvania</td>\n",
       "      <td>2.6</td>\n",
       "      <td>1553165</td>\n",
       "      <td>39.952584</td>\n",
       "      <td>-75.165222</td>\n",
       "    </tr>\n",
       "  </tbody>\n",
       "</table>\n",
       "</div>"
      ],
      "text/plain": [
       "             City  Rank         State  Growth From 2000 to 2013  Population  \\\n",
       "67       New York     1      New York                       4.8     8405837   \n",
       "591   Los Angeles     2    California                       4.8     3884307   \n",
       "602       Chicago     3      Illinois                      -6.1     2718782   \n",
       "70        Houston     4         Texas                      11.0     2195914   \n",
       "674  Philadelphia     5  Pennsylvania                       2.6     1553165   \n",
       "\n",
       "           lat         lon  \n",
       "67   40.712784  -74.005941  \n",
       "591  34.052234 -118.243685  \n",
       "602  41.878114  -87.629798  \n",
       "70   29.760427  -95.369803  \n",
       "674  39.952584  -75.165222  "
      ]
     },
     "execution_count": 11,
     "metadata": {},
     "output_type": "execute_result"
    }
   ],
   "source": [
    "data_raw = pd.read_csv('us_cities.csv', encoding='ISO-8859-1')\n",
    "top_cities = data_raw[data_raw['Rank']<51].sort_values(by=['Rank'])\n",
    "top_cities.head()"
   ]
  },
  {
   "cell_type": "markdown",
   "metadata": {},
   "source": [
    "# Next, I use the FourSquare API to get venue details"
   ]
  },
  {
   "cell_type": "code",
   "execution_count": 12,
   "metadata": {},
   "outputs": [
    {
     "ename": "KeyError",
     "evalue": "'groups'",
     "output_type": "error",
     "traceback": [
      "\u001b[0;31m---------------------------------------------------------------------------\u001b[0m",
      "\u001b[0;31mKeyError\u001b[0m                                  Traceback (most recent call last)",
      "\u001b[0;32m<ipython-input-12-7598a8dbb3a2>\u001b[0m in \u001b[0;36m<module>\u001b[0;34m\u001b[0m\n\u001b[1;32m     19\u001b[0m \u001b[0;34m\u001b[0m\u001b[0m\n\u001b[1;32m     20\u001b[0m     \u001b[0mresults\u001b[0m \u001b[0;34m=\u001b[0m \u001b[0mrequests\u001b[0m\u001b[0;34m.\u001b[0m\u001b[0mget\u001b[0m\u001b[0;34m(\u001b[0m\u001b[0murl\u001b[0m\u001b[0;34m)\u001b[0m\u001b[0;34m.\u001b[0m\u001b[0mjson\u001b[0m\u001b[0;34m(\u001b[0m\u001b[0;34m)\u001b[0m\u001b[0;34m\u001b[0m\u001b[0;34m\u001b[0m\u001b[0m\n\u001b[0;32m---> 21\u001b[0;31m     \u001b[0mvenues\u001b[0m \u001b[0;34m=\u001b[0m \u001b[0mresults\u001b[0m\u001b[0;34m[\u001b[0m\u001b[0;34m'response'\u001b[0m\u001b[0;34m]\u001b[0m\u001b[0;34m[\u001b[0m\u001b[0;34m'groups'\u001b[0m\u001b[0;34m]\u001b[0m\u001b[0;34m[\u001b[0m\u001b[0;36m0\u001b[0m\u001b[0;34m]\u001b[0m\u001b[0;34m[\u001b[0m\u001b[0;34m'items'\u001b[0m\u001b[0;34m]\u001b[0m\u001b[0;34m\u001b[0m\u001b[0;34m\u001b[0m\u001b[0m\n\u001b[0m\u001b[1;32m     22\u001b[0m \u001b[0;31m#     print(venues[0]['venue']['location']['lng'])\u001b[0m\u001b[0;34m\u001b[0m\u001b[0;34m\u001b[0m\u001b[0;34m\u001b[0m\u001b[0m\n\u001b[1;32m     23\u001b[0m     venues_list.append(\n",
      "\u001b[0;31mKeyError\u001b[0m: 'groups'"
     ]
    }
   ],
   "source": [
    "CLIENT_ID = 'DXQ1YUUJINSDWH5IKHURSVTZN0IPKU4WPWBXNWVL0E1FKWYK' # your Foursquare ID\n",
    "CLIENT_SECRET = '4HIOYYAJKGGA4UKFSEVSZVLWHL4IWFIBBLQXDOX1TCMFY14R' # your Foursquare Secret\n",
    "VERSION = '20180605' # Foursquare API version\n",
    "venues_list = []\n",
    "\n",
    "for _, row in top_cities.iterrows():\n",
    "    \n",
    "    lat = row['lat']\n",
    "    lng = row['lon']\n",
    "    city = row['City']\n",
    "    state = row['State']\n",
    "    \n",
    "    \n",
    "\n",
    "    LIMIT = 10\n",
    "    url = 'https://api.foursquare.com/v2/venues/explore?&client_id={}&client_secret={}&v={}&ll={},{}&radius={}&limit={}'.format(\n",
    "        CLIENT_ID, CLIENT_SECRET, VERSION,\n",
    "        lat, lng, 1000, LIMIT)\n",
    "\n",
    "    results = requests.get(url).json()\n",
    "    venues = results['response']['groups'][0]['items']\n",
    "#     print(venues[0]['venue']['location']['lng'])\n",
    "    venues_list.append(\n",
    "        [\n",
    "            (city, state, lat, lng, v['venue']['name'], v['venue']['location']['lat'],\n",
    "             v['venue']['location']['lng'],  v['venue']['categories'][0]['shortName']) \n",
    "         for v in venues])"
   ]
  },
  {
   "cell_type": "markdown",
   "metadata": {},
   "source": [
    "# I now load the FourSquare data into a dataframe"
   ]
  },
  {
   "cell_type": "code",
   "execution_count": 13,
   "metadata": {},
   "outputs": [
    {
     "name": "stdout",
     "output_type": "stream",
     "text": [
      "       City     State  Neighborhood Latitude  Neighborhood Longitude  \\\n",
      "0  New York  New York              40.712784              -74.005941   \n",
      "1  New York  New York              40.712784              -74.005941   \n",
      "2  New York  New York              40.712784              -74.005941   \n",
      "3  New York  New York              40.712784              -74.005941   \n",
      "4  New York  New York              40.712784              -74.005941   \n",
      "\n",
      "                            Venue  Venue Latitude  Venue Longitude  \\\n",
      "0    The Bar Room at Temple Court       40.711448       -74.006802   \n",
      "1  THE BEEKMAN - A Thompson Hotel       40.711173       -74.006702   \n",
      "2                  City Hall Park       40.712241       -74.006977   \n",
      "3                       Augustine       40.711310       -74.006660   \n",
      "4                 The Wooly Daily       40.712137       -74.008395   \n",
      "\n",
      "  Venue Category  \n",
      "0      Hotel Bar  \n",
      "1          Hotel  \n",
      "2           Park  \n",
      "3         French  \n",
      "4    Coffee Shop  \n"
     ]
    }
   ],
   "source": [
    "nearby_venues = pd.DataFrame([item for venue_list in venues_list for item in venue_list])\n",
    "nearby_venues.columns = ['City',\n",
    "                    'State', \n",
    "                  'Neighborhood Latitude', \n",
    "                  'Neighborhood Longitude', \n",
    "                  'Venue', \n",
    "                  'Venue Latitude', \n",
    "                  'Venue Longitude', \n",
    "                  'Venue Category']\n",
    "\n",
    "print(nearby_venues.head())"
   ]
  },
  {
   "cell_type": "code",
   "execution_count": 14,
   "metadata": {},
   "outputs": [
    {
     "name": "stdout",
     "output_type": "stream",
     "text": [
      "(390, 131)\n"
     ]
    },
    {
     "data": {
      "text/html": [
       "<div>\n",
       "<style scoped>\n",
       "    .dataframe tbody tr th:only-of-type {\n",
       "        vertical-align: middle;\n",
       "    }\n",
       "\n",
       "    .dataframe tbody tr th {\n",
       "        vertical-align: top;\n",
       "    }\n",
       "\n",
       "    .dataframe thead th {\n",
       "        text-align: right;\n",
       "    }\n",
       "</style>\n",
       "<table border=\"1\" class=\"dataframe\">\n",
       "  <thead>\n",
       "    <tr style=\"text-align: right;\">\n",
       "      <th></th>\n",
       "      <th>City</th>\n",
       "      <th>American</th>\n",
       "      <th>Apparel</th>\n",
       "      <th>Arcade</th>\n",
       "      <th>Argentinian</th>\n",
       "      <th>Art Gallery</th>\n",
       "      <th>Art Museum</th>\n",
       "      <th>Asian</th>\n",
       "      <th>B &amp; B</th>\n",
       "      <th>Bakery</th>\n",
       "      <th>...</th>\n",
       "      <th>Thai</th>\n",
       "      <th>Theater</th>\n",
       "      <th>Used Bookstore</th>\n",
       "      <th>Vegetarian / Vegan</th>\n",
       "      <th>Wine Bar</th>\n",
       "      <th>Wine Shop</th>\n",
       "      <th>Wings</th>\n",
       "      <th>Yoga Studio</th>\n",
       "      <th>Yogurt</th>\n",
       "      <th>Zoo</th>\n",
       "    </tr>\n",
       "  </thead>\n",
       "  <tbody>\n",
       "    <tr>\n",
       "      <th>0</th>\n",
       "      <td>New York</td>\n",
       "      <td>0</td>\n",
       "      <td>0</td>\n",
       "      <td>0</td>\n",
       "      <td>0</td>\n",
       "      <td>0</td>\n",
       "      <td>0</td>\n",
       "      <td>0</td>\n",
       "      <td>0</td>\n",
       "      <td>0</td>\n",
       "      <td>...</td>\n",
       "      <td>0</td>\n",
       "      <td>0</td>\n",
       "      <td>0</td>\n",
       "      <td>0</td>\n",
       "      <td>0</td>\n",
       "      <td>0</td>\n",
       "      <td>0</td>\n",
       "      <td>0</td>\n",
       "      <td>0</td>\n",
       "      <td>0</td>\n",
       "    </tr>\n",
       "    <tr>\n",
       "      <th>1</th>\n",
       "      <td>New York</td>\n",
       "      <td>0</td>\n",
       "      <td>0</td>\n",
       "      <td>0</td>\n",
       "      <td>0</td>\n",
       "      <td>0</td>\n",
       "      <td>0</td>\n",
       "      <td>0</td>\n",
       "      <td>0</td>\n",
       "      <td>0</td>\n",
       "      <td>...</td>\n",
       "      <td>0</td>\n",
       "      <td>0</td>\n",
       "      <td>0</td>\n",
       "      <td>0</td>\n",
       "      <td>0</td>\n",
       "      <td>0</td>\n",
       "      <td>0</td>\n",
       "      <td>0</td>\n",
       "      <td>0</td>\n",
       "      <td>0</td>\n",
       "    </tr>\n",
       "    <tr>\n",
       "      <th>2</th>\n",
       "      <td>New York</td>\n",
       "      <td>0</td>\n",
       "      <td>0</td>\n",
       "      <td>0</td>\n",
       "      <td>0</td>\n",
       "      <td>0</td>\n",
       "      <td>0</td>\n",
       "      <td>0</td>\n",
       "      <td>0</td>\n",
       "      <td>0</td>\n",
       "      <td>...</td>\n",
       "      <td>0</td>\n",
       "      <td>0</td>\n",
       "      <td>0</td>\n",
       "      <td>0</td>\n",
       "      <td>0</td>\n",
       "      <td>0</td>\n",
       "      <td>0</td>\n",
       "      <td>0</td>\n",
       "      <td>0</td>\n",
       "      <td>0</td>\n",
       "    </tr>\n",
       "    <tr>\n",
       "      <th>3</th>\n",
       "      <td>New York</td>\n",
       "      <td>0</td>\n",
       "      <td>0</td>\n",
       "      <td>0</td>\n",
       "      <td>0</td>\n",
       "      <td>0</td>\n",
       "      <td>0</td>\n",
       "      <td>0</td>\n",
       "      <td>0</td>\n",
       "      <td>0</td>\n",
       "      <td>...</td>\n",
       "      <td>0</td>\n",
       "      <td>0</td>\n",
       "      <td>0</td>\n",
       "      <td>0</td>\n",
       "      <td>0</td>\n",
       "      <td>0</td>\n",
       "      <td>0</td>\n",
       "      <td>0</td>\n",
       "      <td>0</td>\n",
       "      <td>0</td>\n",
       "    </tr>\n",
       "    <tr>\n",
       "      <th>4</th>\n",
       "      <td>New York</td>\n",
       "      <td>0</td>\n",
       "      <td>0</td>\n",
       "      <td>0</td>\n",
       "      <td>0</td>\n",
       "      <td>0</td>\n",
       "      <td>0</td>\n",
       "      <td>0</td>\n",
       "      <td>0</td>\n",
       "      <td>0</td>\n",
       "      <td>...</td>\n",
       "      <td>0</td>\n",
       "      <td>0</td>\n",
       "      <td>0</td>\n",
       "      <td>0</td>\n",
       "      <td>0</td>\n",
       "      <td>0</td>\n",
       "      <td>0</td>\n",
       "      <td>0</td>\n",
       "      <td>0</td>\n",
       "      <td>0</td>\n",
       "    </tr>\n",
       "  </tbody>\n",
       "</table>\n",
       "<p>5 rows × 131 columns</p>\n",
       "</div>"
      ],
      "text/plain": [
       "       City  American  Apparel  Arcade  Argentinian  Art Gallery  Art Museum  \\\n",
       "0  New York         0        0       0            0            0           0   \n",
       "1  New York         0        0       0            0            0           0   \n",
       "2  New York         0        0       0            0            0           0   \n",
       "3  New York         0        0       0            0            0           0   \n",
       "4  New York         0        0       0            0            0           0   \n",
       "\n",
       "   Asian  B & B  Bakery  ...  Thai  Theater  Used Bookstore  \\\n",
       "0      0      0       0  ...     0        0               0   \n",
       "1      0      0       0  ...     0        0               0   \n",
       "2      0      0       0  ...     0        0               0   \n",
       "3      0      0       0  ...     0        0               0   \n",
       "4      0      0       0  ...     0        0               0   \n",
       "\n",
       "   Vegetarian / Vegan  Wine Bar  Wine Shop  Wings  Yoga Studio  Yogurt  Zoo  \n",
       "0                   0         0          0      0            0       0    0  \n",
       "1                   0         0          0      0            0       0    0  \n",
       "2                   0         0          0      0            0       0    0  \n",
       "3                   0         0          0      0            0       0    0  \n",
       "4                   0         0          0      0            0       0    0  \n",
       "\n",
       "[5 rows x 131 columns]"
      ]
     },
     "execution_count": 14,
     "metadata": {},
     "output_type": "execute_result"
    }
   ],
   "source": [
    "usa_venues = nearby_venues.copy()\n",
    "\n",
    "\n",
    "# one hot encoding\n",
    "usa_onehot = pd.get_dummies(usa_venues[['Venue Category']], prefix=\"\", prefix_sep=\"\")\n",
    "\n",
    "# add neighborhood column back to dataframe\n",
    "usa_onehot['City'] = usa_venues['City'] \n",
    "\n",
    "# move neighborhood column to the first column\n",
    "fixed_columns = [usa_onehot.columns[-1]] + list(usa_onehot.columns[:-1])\n",
    "usa_onehot = usa_onehot[fixed_columns]\n",
    "\n",
    "print(usa_onehot.shape)\n",
    "usa_onehot.head()"
   ]
  },
  {
   "cell_type": "code",
   "execution_count": 15,
   "metadata": {},
   "outputs": [
    {
     "name": "stdout",
     "output_type": "stream",
     "text": [
      "(39, 131)\n"
     ]
    },
    {
     "data": {
      "text/html": [
       "<div>\n",
       "<style scoped>\n",
       "    .dataframe tbody tr th:only-of-type {\n",
       "        vertical-align: middle;\n",
       "    }\n",
       "\n",
       "    .dataframe tbody tr th {\n",
       "        vertical-align: top;\n",
       "    }\n",
       "\n",
       "    .dataframe thead th {\n",
       "        text-align: right;\n",
       "    }\n",
       "</style>\n",
       "<table border=\"1\" class=\"dataframe\">\n",
       "  <thead>\n",
       "    <tr style=\"text-align: right;\">\n",
       "      <th></th>\n",
       "      <th>City</th>\n",
       "      <th>American</th>\n",
       "      <th>Apparel</th>\n",
       "      <th>Arcade</th>\n",
       "      <th>Argentinian</th>\n",
       "      <th>Art Gallery</th>\n",
       "      <th>Art Museum</th>\n",
       "      <th>Asian</th>\n",
       "      <th>B &amp; B</th>\n",
       "      <th>Bakery</th>\n",
       "      <th>...</th>\n",
       "      <th>Thai</th>\n",
       "      <th>Theater</th>\n",
       "      <th>Used Bookstore</th>\n",
       "      <th>Vegetarian / Vegan</th>\n",
       "      <th>Wine Bar</th>\n",
       "      <th>Wine Shop</th>\n",
       "      <th>Wings</th>\n",
       "      <th>Yoga Studio</th>\n",
       "      <th>Yogurt</th>\n",
       "      <th>Zoo</th>\n",
       "    </tr>\n",
       "  </thead>\n",
       "  <tbody>\n",
       "    <tr>\n",
       "      <th>0</th>\n",
       "      <td>Albuquerque</td>\n",
       "      <td>0.0</td>\n",
       "      <td>0.0</td>\n",
       "      <td>0.0</td>\n",
       "      <td>0.0</td>\n",
       "      <td>0.0</td>\n",
       "      <td>0.0</td>\n",
       "      <td>0.1</td>\n",
       "      <td>0.0</td>\n",
       "      <td>0.0</td>\n",
       "      <td>...</td>\n",
       "      <td>0.0</td>\n",
       "      <td>0.0</td>\n",
       "      <td>0.0</td>\n",
       "      <td>0.0</td>\n",
       "      <td>0.0</td>\n",
       "      <td>0.1</td>\n",
       "      <td>0.0</td>\n",
       "      <td>0.0</td>\n",
       "      <td>0.0</td>\n",
       "      <td>0.0</td>\n",
       "    </tr>\n",
       "    <tr>\n",
       "      <th>1</th>\n",
       "      <td>Austin</td>\n",
       "      <td>0.0</td>\n",
       "      <td>0.0</td>\n",
       "      <td>0.0</td>\n",
       "      <td>0.0</td>\n",
       "      <td>0.0</td>\n",
       "      <td>0.0</td>\n",
       "      <td>0.0</td>\n",
       "      <td>0.0</td>\n",
       "      <td>0.0</td>\n",
       "      <td>...</td>\n",
       "      <td>0.0</td>\n",
       "      <td>0.1</td>\n",
       "      <td>0.0</td>\n",
       "      <td>0.0</td>\n",
       "      <td>0.0</td>\n",
       "      <td>0.0</td>\n",
       "      <td>0.0</td>\n",
       "      <td>0.0</td>\n",
       "      <td>0.0</td>\n",
       "      <td>0.0</td>\n",
       "    </tr>\n",
       "    <tr>\n",
       "      <th>2</th>\n",
       "      <td>Baltimore</td>\n",
       "      <td>0.0</td>\n",
       "      <td>0.1</td>\n",
       "      <td>0.0</td>\n",
       "      <td>0.0</td>\n",
       "      <td>0.0</td>\n",
       "      <td>0.0</td>\n",
       "      <td>0.0</td>\n",
       "      <td>0.0</td>\n",
       "      <td>0.0</td>\n",
       "      <td>...</td>\n",
       "      <td>0.0</td>\n",
       "      <td>0.1</td>\n",
       "      <td>0.0</td>\n",
       "      <td>0.0</td>\n",
       "      <td>0.0</td>\n",
       "      <td>0.0</td>\n",
       "      <td>0.0</td>\n",
       "      <td>0.0</td>\n",
       "      <td>0.0</td>\n",
       "      <td>0.0</td>\n",
       "    </tr>\n",
       "    <tr>\n",
       "      <th>3</th>\n",
       "      <td>Boston</td>\n",
       "      <td>0.0</td>\n",
       "      <td>0.0</td>\n",
       "      <td>0.0</td>\n",
       "      <td>0.0</td>\n",
       "      <td>0.0</td>\n",
       "      <td>0.0</td>\n",
       "      <td>0.0</td>\n",
       "      <td>0.0</td>\n",
       "      <td>0.0</td>\n",
       "      <td>...</td>\n",
       "      <td>0.0</td>\n",
       "      <td>0.0</td>\n",
       "      <td>0.0</td>\n",
       "      <td>0.0</td>\n",
       "      <td>0.0</td>\n",
       "      <td>0.0</td>\n",
       "      <td>0.0</td>\n",
       "      <td>0.0</td>\n",
       "      <td>0.0</td>\n",
       "      <td>0.0</td>\n",
       "    </tr>\n",
       "    <tr>\n",
       "      <th>4</th>\n",
       "      <td>Charlotte</td>\n",
       "      <td>0.2</td>\n",
       "      <td>0.0</td>\n",
       "      <td>0.0</td>\n",
       "      <td>0.0</td>\n",
       "      <td>0.0</td>\n",
       "      <td>0.0</td>\n",
       "      <td>0.0</td>\n",
       "      <td>0.0</td>\n",
       "      <td>0.0</td>\n",
       "      <td>...</td>\n",
       "      <td>0.0</td>\n",
       "      <td>0.0</td>\n",
       "      <td>0.0</td>\n",
       "      <td>0.0</td>\n",
       "      <td>0.0</td>\n",
       "      <td>0.0</td>\n",
       "      <td>0.0</td>\n",
       "      <td>0.0</td>\n",
       "      <td>0.0</td>\n",
       "      <td>0.0</td>\n",
       "    </tr>\n",
       "  </tbody>\n",
       "</table>\n",
       "<p>5 rows × 131 columns</p>\n",
       "</div>"
      ],
      "text/plain": [
       "          City  American  Apparel  Arcade  Argentinian  Art Gallery  \\\n",
       "0  Albuquerque       0.0      0.0     0.0          0.0          0.0   \n",
       "1       Austin       0.0      0.0     0.0          0.0          0.0   \n",
       "2    Baltimore       0.0      0.1     0.0          0.0          0.0   \n",
       "3       Boston       0.0      0.0     0.0          0.0          0.0   \n",
       "4    Charlotte       0.2      0.0     0.0          0.0          0.0   \n",
       "\n",
       "   Art Museum  Asian  B & B  Bakery  ...  Thai  Theater  Used Bookstore  \\\n",
       "0         0.0    0.1    0.0     0.0  ...   0.0      0.0             0.0   \n",
       "1         0.0    0.0    0.0     0.0  ...   0.0      0.1             0.0   \n",
       "2         0.0    0.0    0.0     0.0  ...   0.0      0.1             0.0   \n",
       "3         0.0    0.0    0.0     0.0  ...   0.0      0.0             0.0   \n",
       "4         0.0    0.0    0.0     0.0  ...   0.0      0.0             0.0   \n",
       "\n",
       "   Vegetarian / Vegan  Wine Bar  Wine Shop  Wings  Yoga Studio  Yogurt  Zoo  \n",
       "0                 0.0       0.0        0.1    0.0          0.0     0.0  0.0  \n",
       "1                 0.0       0.0        0.0    0.0          0.0     0.0  0.0  \n",
       "2                 0.0       0.0        0.0    0.0          0.0     0.0  0.0  \n",
       "3                 0.0       0.0        0.0    0.0          0.0     0.0  0.0  \n",
       "4                 0.0       0.0        0.0    0.0          0.0     0.0  0.0  \n",
       "\n",
       "[5 rows x 131 columns]"
      ]
     },
     "execution_count": 15,
     "metadata": {},
     "output_type": "execute_result"
    }
   ],
   "source": [
    "usa_grouped = usa_onehot.groupby('City').mean().reset_index()\n",
    "\n",
    "print(usa_grouped.shape)\n",
    "usa_grouped.head()"
   ]
  },
  {
   "cell_type": "markdown",
   "metadata": {},
   "source": [
    "# The data is now clustered using the K-means algorithm"
   ]
  },
  {
   "cell_type": "markdown",
   "metadata": {},
   "source": [
    "## I selected k as 5 since we have 50 cities, so each cluster would have approximately 10 cities"
   ]
  },
  {
   "cell_type": "code",
   "execution_count": 16,
   "metadata": {},
   "outputs": [],
   "source": [
    "from sklearn.cluster import KMeans\n",
    "kclusters = 5\n",
    "\n",
    "us_grouped_clustering = usa_grouped.drop('City', 1)\n",
    "\n",
    "kmeans = KMeans(n_clusters=kclusters, random_state=0).fit(us_grouped_clustering)\n",
    "\n",
    "usa_grouped['label'] = kmeans.labels_"
   ]
  },
  {
   "cell_type": "markdown",
   "metadata": {},
   "source": [
    "# Now, I use the cluster labels to find the cities similar to Phoenix"
   ]
  },
  {
   "cell_type": "markdown",
   "metadata": {},
   "source": [
    "## The cities that have the same label as Phoenix are extracted"
   ]
  },
  {
   "cell_type": "code",
   "execution_count": 17,
   "metadata": {},
   "outputs": [
    {
     "name": "stdout",
     "output_type": "stream",
     "text": [
      "0       Albuquerque\n",
      "4         Charlotte\n",
      "8            Denver\n",
      "9           Detroit\n",
      "10          El Paso\n",
      "11       Fort Worth\n",
      "12           Fresno\n",
      "14     Indianapolis\n",
      "16      Kansas City\n",
      "17        Las Vegas\n",
      "18       Long Beach\n",
      "21          Memphis\n",
      "22             Mesa\n",
      "24        Nashville\n",
      "28          Phoenix\n",
      "30       Sacramento\n",
      "33    San Francisco\n",
      "34         San Jose\n",
      "35          Seattle\n",
      "36           Tucson\n",
      "Name: City, dtype: object\n"
     ]
    }
   ],
   "source": [
    "phoenix_label = int(usa_grouped[usa_grouped['City']==\"Phoenix\"]['label'])\n",
    "print(usa_grouped[usa_grouped['label']==phoenix_label]['City'])"
   ]
  },
  {
   "cell_type": "markdown",
   "metadata": {},
   "source": [
    "# Next, I perform PCA and plot the results"
   ]
  },
  {
   "cell_type": "markdown",
   "metadata": {},
   "source": [
    "## I use PCA to reduce the data to 2 dimensions, so that it can be plotted"
   ]
  },
  {
   "cell_type": "markdown",
   "metadata": {},
   "source": [
    "### The color of the dot represents the cluster label"
   ]
  },
  {
   "cell_type": "markdown",
   "metadata": {},
   "source": [
    "### The plot reveals how cities in a given cluster tend to plotted close to each other even in 2D"
   ]
  },
  {
   "cell_type": "code",
   "execution_count": 18,
   "metadata": {},
   "outputs": [
    {
     "data": {
      "image/png": "[encoded data removed]",
      "text/plain": [
       "<Figure size 432x288 with 1 Axes>"
      ]
     },
     "metadata": {
      "needs_background": "light"
     },
     "output_type": "display_data"
    }
   ],
   "source": [
    "from sklearn.decomposition import PCA\n",
    "pca = PCA(n_components=2)\n",
    "pca_data = pca.fit_transform(us_grouped_clustering)\n",
    "\n",
    "xs_plot = pca_data.T[0]\n",
    "ys_plot = pca_data.T[1]\n",
    "\n",
    "plt.scatter(xs_plot, ys_plot, cmap='rainbow', c=kmeans.labels_)\n",
    "plt.title(\"PCA plot of clustered data in 2 dimensions\")\n",
    "plt.show()"
   ]
  },
  {
   "cell_type": "markdown",
   "metadata": {},
   "source": [
    "# Finally, I plot the data on the map using Folium"
   ]
  },
  {
   "cell_type": "markdown",
   "metadata": {},
   "source": [
    "## Cities similar to Phoenix (including Phoenix) are marked with large circular markers"
   ]
  },
  {
   "cell_type": "markdown",
   "metadata": {},
   "source": [
    "## Cities in other clusters are marked with smaller dots"
   ]
  },
  {
   "cell_type": "code",
   "execution_count": 19,
   "metadata": {},
   "outputs": [
    {
     "data": {
      "text/html": [
       "<div style=\"width:100%;\"><div style=\"position:relative;width:100%;height:0;padding-bottom:60%;\"><iframe src=\"data:text/html;charset=utf-8;base64,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\" style=\"position:absolute;width:100%;height:100%;left:0;top:0;border:none !important;\" allowfullscreen webkitallowfullscreen mozallowfullscreen></iframe></div></div>"
      ],
      "text/plain": [
       "<folium.folium.Map at 0x7f277c0ca5c0>"
      ]
     },
     "execution_count": 19,
     "metadata": {},
     "output_type": "execute_result"
    }
   ],
   "source": [
    "import folium\n",
    "import matplotlib.cm as cm\n",
    "import matplotlib.colors as colors\n",
    "\n",
    "usa_plot = pd.merge(usa_grouped, top_cities, how='left',on='City', validate=\"1:1\")\n",
    "usa_plot.head()\n",
    "\n",
    "mycolors = [\"#FF0000\",\"#00FF00\",\"#0000FF\",\"#00000F\",\"#00FFFF\"]\n",
    "\n",
    "usmap = folium.Map(location=[37.0902, -95.7129], zoom_start=5)\n",
    "for lat, lon, city, label in zip(usa_plot['lat'], usa_plot['lon'], \n",
    "                                       usa_plot['City'], usa_plot['label']):\n",
    "    if label == phoenix_label:\n",
    "        pop = folium.Popup(\"City Name: \"+str(city))\n",
    "        folium.CircleMarker(\n",
    "        [lat, lon],\n",
    "        radius = 7,\n",
    "        color = mycolors[label],\n",
    "        fill = True,\n",
    "        popup = pop,\n",
    "        fill_color = mycolors[label],\n",
    "        fill_opacity = 0.3\n",
    "        ).add_to(usmap)\n",
    "    else:\n",
    "        pop = folium.Popup(\"City Name: \"+str(city))\n",
    "        folium.CircleMarker(\n",
    "        [lat, lon],\n",
    "        radius = 2,\n",
    "        color = mycolors[label],\n",
    "        fill = True,\n",
    "        popup = pop,\n",
    "        fill_color = mycolors[label],\n",
    "        fill_opacity = 0.3\n",
    "        ).add_to(usmap)\n",
    "\n",
    "\n",
    "usmap"
   ]
  },
  {
   "cell_type": "code",
   "execution_count": null,
   "metadata": {},
   "outputs": [],
   "source": []
  }
 ],
 "metadata": {
  "kernelspec": {
   "display_name": "Python 3",
   "language": "python",
   "name": "python3"
  },
  "language_info": {
   "codemirror_mode": {
    "name": "ipython",
    "version": 3
   },
   "file_extension": ".py",
   "mimetype": "text/x-python",
   "name": "python",
   "nbconvert_exporter": "python",
   "pygments_lexer": "ipython3",
   "version": "3.6.8"
  }
 },
 "nbformat": 4,
 "nbformat_minor": 2
}
